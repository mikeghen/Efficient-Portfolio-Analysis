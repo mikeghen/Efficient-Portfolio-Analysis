{
 "cells": [
  {
   "cell_type": "markdown",
   "id": "375bbc1c-4ada-44d9-93c0-b952a53cbc78",
   "metadata": {},
   "source": [
    "API - DATA"
   ]
  },
  {
   "cell_type": "markdown",
   "id": "2292cfab-f2c6-479e-a579-5fc784fe29af",
   "metadata": {},
   "source": [
    "test"
   ]
  },
  {
   "cell_type": "code",
   "execution_count": null,
   "id": "ba1bce4e-4d7c-4bd2-804d-4aaeb4215abf",
   "metadata": {},
   "outputs": [],
   "source": []
  }
 ],
 "metadata": {
  "kernelspec": {
   "display_name": "Python 3",
   "language": "python",
   "name": "python3"
  },
  "language_info": {
   "codemirror_mode": {
    "name": "ipython",
    "version": 3
   },
   "file_extension": ".py",
   "mimetype": "text/x-python",
   "name": "python",
   "nbconvert_exporter": "python",
   "pygments_lexer": "ipython3",
   "version": "3.7.10"
  }
 },
 "nbformat": 4,
 "nbformat_minor": 5
}
