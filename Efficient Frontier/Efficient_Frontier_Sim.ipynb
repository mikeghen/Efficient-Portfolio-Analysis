{
 "cells": [
  {
   "cell_type": "code",
   "execution_count": 1,
   "id": "261f3a91-b222-4aaa-9f5d-2f42e0a10f00",
   "metadata": {},
   "outputs": [],
   "source": [
    "import pandas as pd\n",
    "from pathlib import Path\n",
    "import numpy as np \n",
    "%matplotlib inline"
   ]
  },
  {
   "cell_type": "code",
   "execution_count": 2,
   "id": "83d8818b-3a25-4f04-95d2-4ff2117128dd",
   "metadata": {},
   "outputs": [],
   "source": [
    "# Set file paths\n",
    "Stock_Crpyto_Gold = Path(\"./Eff_Front_Input/Stock_Crypto_Gold.csv\")\n",
    "Crypto_Gold = Path(\"./Eff_Front_Input/Crypto_Gold.csv\")\n",
    "Stock_Gold = Path(\"./Eff_Front_Input/Stock_Gold.csv\")\n",
    "Stock_Crypto = Path(\"./Eff_Front_Input/Stock_Crypto.csv\")\n",
    "\n",
    "# Read the individual CSV datasets\n",
    "StockCryptoGold = pd.read_csv(Stock_Crpyto_Gold, index_col=\"Trade DATE\",infer_datetime_format=True, parse_dates=True)\n",
    "CryptoGold = pd.read_csv(Crypto_Gold, index_col=\"Trade DATE\",infer_datetime_format=True, parse_dates=True)\n",
    "StockGold= pd.read_csv(Stock_Gold, index_col=\"Trade DATE\",infer_datetime_format=True, parse_dates=True)\n",
    "StockCrypto = pd.read_csv(Stock_Crypto, index_col=\"Trade DATE\", infer_datetime_format=True, parse_dates=True)\n"
   ]
  },
  {
   "cell_type": "code",
   "execution_count": 3,
   "id": "6441cba2-b7bd-45e3-bcf2-cff87210c9ff",
   "metadata": {},
   "outputs": [],
   "source": [
    "# dataframe_dictionary = {\"Stock_Bond_Crypto\": ,\n",
    "#                         \"Stock_Crypto_Gold\": ,\n",
    "#                         \"Stock_Crypto_Oil\": ,\n",
    "#                         \"Bond_Oil_Gold\": ,\n",
    "#                         \"Stock_Bond_Oil_Crypto_Gold\":\n",
    "#                         }\n",
    "\n",
    "\n",
    "\n",
    "\n",
    "\n",
    "\n",
    "dataframe_dictionary = {\"Stock_Crpyto_Gold\": StockCryptoGold,\n",
    "                        \"Crpyto_Gold\" : CryptoGold,\n",
    "                        \"Stock_Gold\": StockGold,\n",
    "                        \" Stock_Crpyto\": StockCrypto\n",
    "                        }\n",
    "\n",
    "\n",
    " "
   ]
  },
  {
   "cell_type": "code",
   "execution_count": 4,
   "id": "321c1802-e0a5-4e19-892f-3eb954286b45",
   "metadata": {},
   "outputs": [],
   "source": [
    "## Function that calculates log returns  \n",
    "def calculateLogreturns(df):\n",
    "    \n",
    "    # Calculate returns\n",
    "    returns1 = df/df.shift(1)\n",
    "    # Creates log returns\n",
    "    log_returns = np.log(returns1)\n",
    "    return log_returns\n",
    "\n",
    "    "
   ]
  },
  {
   "cell_type": "code",
   "execution_count": 5,
   "id": "8092f455-e4f7-4d63-8217-7b3fe4545cbd",
   "metadata": {},
   "outputs": [],
   "source": [
    "## Function that runs Efficient Frontier Simulation and returns weighted index, return, expected return  \n",
    "\n",
    "def efficient_frontier(calculateLogreturns, number_columns):\n",
    "        \n",
    "       ## Sets number of portfolios to be simulated \n",
    "        number_portfolios = 10000\n",
    "        \n",
    "       ## Creates arrays to store calculations\n",
    "        weight = np.zeros((number_portfolios, number_columns))\n",
    "        expectedReturn = np.zeros(number_portfolios)\n",
    "        expectedVolatility = np.zeros(number_portfolios)\n",
    "        sharpeRatio = np.zeros(number_portfolios)\n",
    "\n",
    "       ## Creates two variables by calling calculateLogReturns function\n",
    "        meanLogRet = calculateLogreturns(df).mean()\n",
    "        sigma = calculateLogreturns(df).cov()\n",
    "\n",
    "       ## For loop that takes in the number of portfolios  \n",
    "        for k in range(number_portfolios):\n",
    "            # Generate random weight vector\n",
    "            w = np.array(np.random.random(number_columns))\n",
    "            w = w /np.sum(w)\n",
    "            weight[k,:] = w\n",
    "           \n",
    "        # Expected log return\n",
    "            expectedReturn[k] = np.sum(meanLogRet * w)\n",
    "    \n",
    "            # Expected volatility\n",
    "            expectedVolatility[k] = np.sqrt(np.dot(w.T, np.dot(sigma, w)))\n",
    "   \n",
    "            # Sharpe Ratio\n",
    "            sharpeRatio[k] = expectedReturn[k]/expectedVolatility[k]\n",
    "    \n",
    "        # Maximizes Sharpe ratio \n",
    "        WeightIndex = sharpeRatio.argmax()\n",
    "        \n",
    "        # Weighted index that maximizes sharpe ratio \n",
    "        Final_Index = weight[WeightIndex,:]\n",
    "    \n",
    "        return Final_Index, expectedReturn, expectedVolatility, sharpeRatio\n",
    "    "
   ]
  },
  {
   "cell_type": "code",
   "execution_count": 6,
   "id": "b231189d-c8e7-496e-86de-d158844dfd11",
   "metadata": {},
   "outputs": [],
   "source": [
    "def weights_of_efficient_frontier(Weights,columns):\n",
    "    \n",
    "    outputdataframe = pd.DataFrame(Weights)\n",
    "    outputdataframe = outputdataframe.T\n",
    "    outputdataframe.columns = columns\n",
    "    \n",
    "    path = Path(f\"./Eff_Front_Output/{name_of_df}EF.csv\")\n",
    "    return outputdataframe.to_csv(path, index = False)\n",
    "\n",
    "   "
   ]
  },
  {
   "cell_type": "code",
   "execution_count": 7,
   "id": "001de100-6d61-4051-932b-4efa8c681df0",
   "metadata": {},
   "outputs": [],
   "source": [
    "def returns_volatility_sharpe(Returns, Volatility, Sharpes):\n",
    "    ## Creates output dataframe for returns, weights, volatility\n",
    "    ret_output = pd.DataFrame(Returns)\n",
    "    vol_output = pd.DataFrame(Volatility)\n",
    "    sharpes_output = pd.DataFrame(Sharpes)\n",
    "    \n",
    "    ## Second output\n",
    "    second_output_dataframe = pd.concat([ret_output,vol_output,sharpes_output], axis = \"columns\", join =\"inner\")\n",
    "    second_output_dataframe.columns = [\"Expected Return\", \"Volatility\", \"Sharpe Ratio\"]\n",
    "    \n",
    "    path = Path(f\"./Eff_Front_Output/{name_of_df}_returns_vola.csv\")\n",
    "    second_output_dataframe.to_csv(path, index = False)"
   ]
  },
  {
   "cell_type": "code",
   "execution_count": 8,
   "id": "74ca86fa-26e4-4110-b46f-6e042dcfb5d4",
   "metadata": {},
   "outputs": [],
   "source": [
    "# For loop that uses dataframe dictionary to run functions for calculateLogreturns and efficient frontier\n",
    "\n",
    "for name_of_df, df in dataframe_dictionary.items():\n",
    "    \n",
    "    ## Creates variable for column names\n",
    "    columns = df.columns\n",
    "    \n",
    "    ## Defines number of columns in outputdataframe\n",
    "    shape = df.shape\n",
    "    number_columns = shape[1]\n",
    "    \n",
    "    ## Runs calculateLogreturns function\n",
    "    calculateLogreturns(df)\n",
    "    \n",
    "    ## Runs efficient frontier function and returns weights, returns, and volatility\n",
    "    Weights, Returns, Volatility, Sharpes = efficient_frontier(calculateLogreturns, number_columns)\n",
    "\n",
    "    ## Runs function to output Efficient Frontier weights to csv\n",
    "    weights_of_efficient_frontier(Weights,columns)\n",
    "    \n",
    "    \n",
    "    ## Runs function to output all Returns, Vol, and Sharpes\n",
    "    returns_volatility_sharpe(Returns, Volatility, Sharpes)\n",
    "    \n",
    "    \n",
    "    \n",
    "    \n",
    "    "
   ]
  },
  {
   "cell_type": "code",
   "execution_count": null,
   "id": "1aecd86b-76d4-4ad1-96e4-2792f88d4c6e",
   "metadata": {},
   "outputs": [],
   "source": []
  },
  {
   "cell_type": "code",
   "execution_count": null,
   "id": "c5832a77-e830-4334-806f-d21688f9f7a1",
   "metadata": {},
   "outputs": [],
   "source": []
  },
  {
   "cell_type": "code",
   "execution_count": null,
   "id": "3a3fc00a-485c-4330-a2cc-386cf876334e",
   "metadata": {},
   "outputs": [],
   "source": []
  },
  {
   "cell_type": "code",
   "execution_count": null,
   "id": "53e92ac3-2026-402e-98a2-93092faaa2a4",
   "metadata": {},
   "outputs": [],
   "source": []
  },
  {
   "cell_type": "code",
   "execution_count": null,
   "id": "9c09a6d9-1c59-473a-9a10-1dfa69e83f1e",
   "metadata": {},
   "outputs": [],
   "source": []
  },
  {
   "cell_type": "code",
   "execution_count": null,
   "id": "84e91eef-1fa3-4000-9393-c456e83ec28c",
   "metadata": {},
   "outputs": [],
   "source": []
  }
 ],
 "metadata": {
  "kernelspec": {
   "display_name": "Python 3",
   "language": "python",
   "name": "python3"
  },
  "language_info": {
   "codemirror_mode": {
    "name": "ipython",
    "version": 3
   },
   "file_extension": ".py",
   "mimetype": "text/x-python",
   "name": "python",
   "nbconvert_exporter": "python",
   "pygments_lexer": "ipython3",
   "version": "3.8.5"
  }
 },
 "nbformat": 4,
 "nbformat_minor": 5
}
