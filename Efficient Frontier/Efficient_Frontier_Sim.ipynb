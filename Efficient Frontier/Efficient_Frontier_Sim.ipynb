{
 "cells": [
  {
   "cell_type": "code",
   "execution_count": 1,
   "id": "261f3a91-b222-4aaa-9f5d-2f42e0a10f00",
   "metadata": {},
   "outputs": [],
   "source": [
    "import pandas as pd\n",
    "from pathlib import Path\n",
    "import numpy as np \n",
    "%matplotlib inline"
   ]
  },
  {
   "cell_type": "code",
   "execution_count": 2,
   "id": "83d8818b-3a25-4f04-95d2-4ff2117128dd",
   "metadata": {},
   "outputs": [],
   "source": [
    "# Set file paths\n",
    "hd_data = Path(\"./Resources/HD.csv\")\n",
    "jnj_data = Path(\"./Resources/JNJ.csv\")\n",
    "intc_data = Path(\"./Resources/INTC.csv\")\n",
    "amd_data = Path(\"./Resources/AMD.csv\")\n",
    "mu_data = Path(\"./Resources/MU.csv\")\n",
    "nvda_data = Path(\"./Resources/NVDA.csv\")\n",
    "tsm_data = Path(\"./Resources/TSM.csv\")\n",
    "\n",
    "\n",
    "# Read the individual CSV datasets\n",
    "hd = pd.read_csv(hd_data, index_col=\"date\", infer_datetime_format=True, parse_dates=True)\n",
    "jnj = pd.read_csv(jnj_data, index_col=\"date\",infer_datetime_format=True, parse_dates=True)\n",
    "intc = pd.read_csv(intc_data, index_col=\"date\",infer_datetime_format=True, parse_dates=True)\n",
    "amd = pd.read_csv(amd_data, index_col=\"date\",infer_datetime_format=True, parse_dates=True)\n",
    "mu = pd.read_csv(mu_data, index_col=\"date\",infer_datetime_format=True, parse_dates=True)\n",
    "nvda = pd.read_csv(nvda_data, index_col=\"date\",infer_datetime_format=True, parse_dates=True)\n",
    "tsm = pd.read_csv(tsm_data, index_col=\"date\",infer_datetime_format=True, parse_dates=True)"
   ]
  },
  {
   "cell_type": "code",
   "execution_count": 3,
   "id": "6441cba2-b7bd-45e3-bcf2-cff87210c9ff",
   "metadata": {},
   "outputs": [],
   "source": [
    "combined_df = pd.concat([jnj, hd, intc, amd], axis=\"columns\", join=\"inner\")\n",
    "combined_df.sort_index(inplace=True)\n",
    "combined_df.head()\n",
    "\n",
    "combined_df2 = pd.concat([mu,nvda,tsm], axis=\"columns\", join=\"inner\")\n",
    "combined_df2.sort_index(inplace=True)\n",
    "combined_df2.head()\n",
    "\n",
    "# Creates a dictionary of dataframes \n",
    "\n",
    "dataframe_dictionary = {\"First_df\": combined_df,\n",
    "                        \"Second_df\" : combined_df2}\n",
    "\n",
    "\n",
    " "
   ]
  },
  {
   "cell_type": "code",
   "execution_count": 4,
   "id": "321c1802-e0a5-4e19-892f-3eb954286b45",
   "metadata": {},
   "outputs": [],
   "source": [
    "## Function that calculates log returns  \n",
    "def calculateLogreturns(df):\n",
    "    \n",
    "    # Calculate returns\n",
    "    returns1 = df/df.shift(1)\n",
    "    # Creates log returns\n",
    "    log_returns = np.log(returns1)\n",
    "    return log_returns\n",
    "\n",
    "    "
   ]
  },
  {
   "cell_type": "code",
   "execution_count": 5,
   "id": "2027e63a-6ef2-4f51-8594-489686cca8f2",
   "metadata": {},
   "outputs": [],
   "source": [
    "## Function that runs Efficient Frontier Simulation and returns weighted index, return, expected return  \n",
    "\n",
    "def efficient_frontier(calculateLogreturns, number_columns):\n",
    "        \n",
    "       ## Sets number of portfolios to be simulated \n",
    "        number_portfolios = 10\n",
    "        \n",
    "       ## Creates arrays to store calculations\n",
    "        weight = np.zeros((number_portfolios, number_columns))\n",
    "        expectedReturn = np.zeros(number_portfolios)\n",
    "        expectedVolatility = np.zeros(number_portfolios)\n",
    "        sharpeRatio = np.zeros(number_portfolios)\n",
    "\n",
    "       ## Creates two variables by calling calculateLogReturns function\n",
    "        meanLogRet = calculateLogreturns(df).mean()\n",
    "        sigma = calculateLogreturns(df).cov()\n",
    "\n",
    "       ## For loop that takes in the number of portfolios  \n",
    "        for k in range(number_portfolios):\n",
    "            # Generate random weight vector\n",
    "            w = np.array(np.random.random(number_columns))\n",
    "            w = w /np.sum(w)\n",
    "            weight[k,:] = w\n",
    "           \n",
    "        # Expected log return\n",
    "            expectedReturn[k] = np.sum(meanLogRet * w)\n",
    "    \n",
    "            # Expected volatility\n",
    "            expectedVolatility[k] = np.sqrt(np.dot(w.T, np.dot(sigma, w)))\n",
    "   \n",
    "            # Sharpe Ratio\n",
    "            sharpeRatio[k] = expectedReturn[k]/expectedVolatility[k]\n",
    "    \n",
    "        # Maximizes Sharpe ratio \n",
    "        WeightIndex = sharpeRatio.argmax()\n",
    "        \n",
    "        # Weighted index that maximizes sharpe ratio \n",
    "        Final_Index = weight[WeightIndex,:]\n",
    "        \n",
    "        return Final_Index, expectedReturn, expectedVolatility\n",
    "\n",
    "   "
   ]
  },
  {
   "cell_type": "code",
   "execution_count": 8,
   "id": "92cb8354-f399-4fad-a1df-ef1e6dbe5ba3",
   "metadata": {},
   "outputs": [
    {
     "ename": "ValueError",
     "evalue": "Dot product shape mismatch, (2517, 3) vs (4,)",
     "output_type": "error",
     "traceback": [
      "\u001b[1;31m---------------------------------------------------------------------------\u001b[0m",
      "\u001b[1;31mValueError\u001b[0m                                Traceback (most recent call last)",
      "\u001b[1;32m<ipython-input-8-f950a76fb3e8>\u001b[0m in \u001b[0;36m<module>\u001b[1;34m\u001b[0m\n\u001b[0;32m     24\u001b[0m     \u001b[1;32mfor\u001b[0m \u001b[0mname_of_df\u001b[0m\u001b[1;33m,\u001b[0m \u001b[0mdf\u001b[0m \u001b[1;32min\u001b[0m \u001b[0mdataframe_dictionary\u001b[0m\u001b[1;33m.\u001b[0m\u001b[0mitems\u001b[0m\u001b[1;33m(\u001b[0m\u001b[1;33m)\u001b[0m\u001b[1;33m:\u001b[0m\u001b[1;33m\u001b[0m\u001b[1;33m\u001b[0m\u001b[0m\n\u001b[0;32m     25\u001b[0m         \u001b[0mdaily_returns\u001b[0m \u001b[1;33m=\u001b[0m \u001b[0mdf\u001b[0m\u001b[1;33m.\u001b[0m\u001b[0mpct_change\u001b[0m\u001b[1;33m(\u001b[0m\u001b[1;33m)\u001b[0m\u001b[1;33m\u001b[0m\u001b[1;33m\u001b[0m\u001b[0m\n\u001b[1;32m---> 26\u001b[1;33m         \u001b[0mcum_returns\u001b[0m \u001b[1;33m=\u001b[0m \u001b[0mdaily_returns\u001b[0m\u001b[1;33m.\u001b[0m\u001b[0mdot\u001b[0m\u001b[1;33m(\u001b[0m\u001b[0mWeights\u001b[0m\u001b[1;33m)\u001b[0m\u001b[1;33m\u001b[0m\u001b[1;33m\u001b[0m\u001b[0m\n\u001b[0m\u001b[0;32m     27\u001b[0m         \u001b[0mcumulative_returns\u001b[0m \u001b[1;33m=\u001b[0m \u001b[1;33m(\u001b[0m\u001b[1;36m1\u001b[0m\u001b[1;33m+\u001b[0m\u001b[0mcum_returns\u001b[0m\u001b[1;33m)\u001b[0m\u001b[1;33m.\u001b[0m\u001b[0mcumprod\u001b[0m\u001b[1;33m(\u001b[0m\u001b[1;33m)\u001b[0m\u001b[1;33m\u001b[0m\u001b[1;33m\u001b[0m\u001b[0m\n\u001b[0;32m     28\u001b[0m         \u001b[0mcumulative_returns_df\u001b[0m\u001b[1;33m.\u001b[0m\u001b[0mappend\u001b[0m\u001b[1;33m(\u001b[0m\u001b[0mcumulative_returns\u001b[0m\u001b[1;33m)\u001b[0m\u001b[1;33m\u001b[0m\u001b[1;33m\u001b[0m\u001b[0m\n",
      "\u001b[1;32m~\\anaconda3\\lib\\site-packages\\pandas\\core\\frame.py\u001b[0m in \u001b[0;36mdot\u001b[1;34m(self, other)\u001b[0m\n\u001b[0;32m   1253\u001b[0m             \u001b[0mrvals\u001b[0m \u001b[1;33m=\u001b[0m \u001b[0mnp\u001b[0m\u001b[1;33m.\u001b[0m\u001b[0masarray\u001b[0m\u001b[1;33m(\u001b[0m\u001b[0mother\u001b[0m\u001b[1;33m)\u001b[0m\u001b[1;33m\u001b[0m\u001b[1;33m\u001b[0m\u001b[0m\n\u001b[0;32m   1254\u001b[0m             \u001b[1;32mif\u001b[0m \u001b[0mlvals\u001b[0m\u001b[1;33m.\u001b[0m\u001b[0mshape\u001b[0m\u001b[1;33m[\u001b[0m\u001b[1;36m1\u001b[0m\u001b[1;33m]\u001b[0m \u001b[1;33m!=\u001b[0m \u001b[0mrvals\u001b[0m\u001b[1;33m.\u001b[0m\u001b[0mshape\u001b[0m\u001b[1;33m[\u001b[0m\u001b[1;36m0\u001b[0m\u001b[1;33m]\u001b[0m\u001b[1;33m:\u001b[0m\u001b[1;33m\u001b[0m\u001b[1;33m\u001b[0m\u001b[0m\n\u001b[1;32m-> 1255\u001b[1;33m                 raise ValueError(\n\u001b[0m\u001b[0;32m   1256\u001b[0m                     \u001b[1;34mf\"Dot product shape mismatch, {lvals.shape} vs {rvals.shape}\"\u001b[0m\u001b[1;33m\u001b[0m\u001b[1;33m\u001b[0m\u001b[0m\n\u001b[0;32m   1257\u001b[0m                 )\n",
      "\u001b[1;31mValueError\u001b[0m: Dot product shape mismatch, (2517, 3) vs (4,)"
     ]
    }
   ],
   "source": [
    "# For loop that uses dataframe dictionary to run functions for calculateLogreturns and efficient frontier\n",
    "\n",
    "for name_of_df, df in dataframe_dictionary.items():\n",
    "    \n",
    "    ## Creates variable for column names\n",
    "    columns = df.columns\n",
    "    \n",
    "    ## Defines number of columns in outputdataframe\n",
    "    shape = df.shape\n",
    "    number_columns = shape[1]\n",
    "    \n",
    "    \n",
    "    ## Runs calculateLogreturns function\n",
    "    calculateLogreturns(df)\n",
    "    \n",
    "    \n",
    "    ## Runs efficient frontier function and returns weights, returns, and volatility\n",
    "    Weights, Returns, Volatility = efficient_frontier(calculateLogreturns, number_columns)\n",
    "\n",
    "    ## Creates a dataframe of weights from Efficient Frontier simulation\n",
    "    outputdataframe = pd.DataFrame(Weights)\n",
    "    outputdataframe = outputdataframe.T\n",
    "    outputdataframe.columns = columns\n",
    "    \n",
    "    \n",
    "   \n",
    "   \n",
    "    \n",
    "    outputdataframe.to_csv(f\"{name_of_df}.csv\")\n",
    "\n"
   ]
  },
  {
   "cell_type": "code",
   "execution_count": 7,
   "id": "c5832a77-e830-4334-806f-d21688f9f7a1",
   "metadata": {},
   "outputs": [
    {
     "ename": "ValueError",
     "evalue": "Dot product shape mismatch, (2517, 4) vs (3,)",
     "output_type": "error",
     "traceback": [
      "\u001b[1;31m---------------------------------------------------------------------------\u001b[0m",
      "\u001b[1;31mValueError\u001b[0m                                Traceback (most recent call last)",
      "\u001b[1;32m<ipython-input-7-a1e08835232a>\u001b[0m in \u001b[0;36m<module>\u001b[1;34m\u001b[0m\n\u001b[0;32m      4\u001b[0m \u001b[1;32mfor\u001b[0m \u001b[0mname_of_df\u001b[0m\u001b[1;33m,\u001b[0m \u001b[0mdf\u001b[0m \u001b[1;32min\u001b[0m \u001b[0mdataframe_dictionary\u001b[0m\u001b[1;33m.\u001b[0m\u001b[0mitems\u001b[0m\u001b[1;33m(\u001b[0m\u001b[1;33m)\u001b[0m\u001b[1;33m:\u001b[0m\u001b[1;33m\u001b[0m\u001b[1;33m\u001b[0m\u001b[0m\n\u001b[0;32m      5\u001b[0m     \u001b[0mdaily_returns\u001b[0m \u001b[1;33m=\u001b[0m \u001b[0mdf\u001b[0m\u001b[1;33m.\u001b[0m\u001b[0mpct_change\u001b[0m\u001b[1;33m(\u001b[0m\u001b[1;33m)\u001b[0m\u001b[1;33m\u001b[0m\u001b[1;33m\u001b[0m\u001b[0m\n\u001b[1;32m----> 6\u001b[1;33m     \u001b[0mcum_returns\u001b[0m \u001b[1;33m=\u001b[0m \u001b[0mdaily_returns\u001b[0m\u001b[1;33m.\u001b[0m\u001b[0mdot\u001b[0m\u001b[1;33m(\u001b[0m\u001b[0mWeights\u001b[0m\u001b[1;33m)\u001b[0m\u001b[1;33m\u001b[0m\u001b[1;33m\u001b[0m\u001b[0m\n\u001b[0m\u001b[0;32m      7\u001b[0m     \u001b[0mcumulative_returns\u001b[0m \u001b[1;33m=\u001b[0m \u001b[1;33m(\u001b[0m\u001b[1;36m1\u001b[0m\u001b[1;33m+\u001b[0m\u001b[0mcum_returns\u001b[0m\u001b[1;33m)\u001b[0m\u001b[1;33m.\u001b[0m\u001b[0mcumprod\u001b[0m\u001b[1;33m(\u001b[0m\u001b[1;33m)\u001b[0m\u001b[1;33m\u001b[0m\u001b[1;33m\u001b[0m\u001b[0m\n\u001b[0;32m      8\u001b[0m     \u001b[0mcumulative_returns_df\u001b[0m\u001b[1;33m.\u001b[0m\u001b[0mappend\u001b[0m\u001b[1;33m(\u001b[0m\u001b[0mcumulative_returns\u001b[0m\u001b[1;33m)\u001b[0m\u001b[1;33m\u001b[0m\u001b[1;33m\u001b[0m\u001b[0m\n",
      "\u001b[1;32m~\\anaconda3\\lib\\site-packages\\pandas\\core\\frame.py\u001b[0m in \u001b[0;36mdot\u001b[1;34m(self, other)\u001b[0m\n\u001b[0;32m   1253\u001b[0m             \u001b[0mrvals\u001b[0m \u001b[1;33m=\u001b[0m \u001b[0mnp\u001b[0m\u001b[1;33m.\u001b[0m\u001b[0masarray\u001b[0m\u001b[1;33m(\u001b[0m\u001b[0mother\u001b[0m\u001b[1;33m)\u001b[0m\u001b[1;33m\u001b[0m\u001b[1;33m\u001b[0m\u001b[0m\n\u001b[0;32m   1254\u001b[0m             \u001b[1;32mif\u001b[0m \u001b[0mlvals\u001b[0m\u001b[1;33m.\u001b[0m\u001b[0mshape\u001b[0m\u001b[1;33m[\u001b[0m\u001b[1;36m1\u001b[0m\u001b[1;33m]\u001b[0m \u001b[1;33m!=\u001b[0m \u001b[0mrvals\u001b[0m\u001b[1;33m.\u001b[0m\u001b[0mshape\u001b[0m\u001b[1;33m[\u001b[0m\u001b[1;36m0\u001b[0m\u001b[1;33m]\u001b[0m\u001b[1;33m:\u001b[0m\u001b[1;33m\u001b[0m\u001b[1;33m\u001b[0m\u001b[0m\n\u001b[1;32m-> 1255\u001b[1;33m                 raise ValueError(\n\u001b[0m\u001b[0;32m   1256\u001b[0m                     \u001b[1;34mf\"Dot product shape mismatch, {lvals.shape} vs {rvals.shape}\"\u001b[0m\u001b[1;33m\u001b[0m\u001b[1;33m\u001b[0m\u001b[0m\n\u001b[0;32m   1257\u001b[0m                 )\n",
      "\u001b[1;31mValueError\u001b[0m: Dot product shape mismatch, (2517, 4) vs (3,)"
     ]
    }
   ],
   "source": [
    "cumulative_returns_df = []\n",
    "\n",
    "\n",
    "for name_of_df, df in dataframe_dictionary.items():\n",
    "    daily_returns = df.pct_change()\n",
    "    cum_returns = daily_returns.dot(Weights)\n",
    "    cumulative_returns = (1+cum_returns).cumprod()\n",
    "    cumulative_returns_df.append(cumulative_returns)\n",
    "\n",
    "for i in cumulative_returns_df:\n",
    "    i.plot(figsize=(10,5))"
   ]
  },
  {
   "cell_type": "code",
   "execution_count": null,
   "id": "3a3fc00a-485c-4330-a2cc-386cf876334e",
   "metadata": {},
   "outputs": [],
   "source": []
  },
  {
   "cell_type": "code",
   "execution_count": null,
   "id": "53e92ac3-2026-402e-98a2-93092faaa2a4",
   "metadata": {},
   "outputs": [],
   "source": []
  },
  {
   "cell_type": "code",
   "execution_count": null,
   "id": "9c09a6d9-1c59-473a-9a10-1dfa69e83f1e",
   "metadata": {},
   "outputs": [],
   "source": []
  },
  {
   "cell_type": "code",
   "execution_count": null,
   "id": "84e91eef-1fa3-4000-9393-c456e83ec28c",
   "metadata": {},
   "outputs": [],
   "source": []
  }
 ],
 "metadata": {
  "kernelspec": {
   "display_name": "Python 3",
   "language": "python",
   "name": "python3"
  },
  "language_info": {
   "codemirror_mode": {
    "name": "ipython",
    "version": 3
   },
   "file_extension": ".py",
   "mimetype": "text/x-python",
   "name": "python",
   "nbconvert_exporter": "python",
   "pygments_lexer": "ipython3",
   "version": "3.8.5"
  }
 },
 "nbformat": 4,
 "nbformat_minor": 5
}
