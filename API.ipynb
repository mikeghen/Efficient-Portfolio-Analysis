{
 "cells": [
  {
   "cell_type": "markdown",
   "id": "375bbc1c-4ada-44d9-93c0-b952a53cbc78",
   "metadata": {},
   "source": [
    "API - DATA"
   ]
  },
  {
   "cell_type": "code",
   "execution_count": 13,
   "id": "842fa8e7-a15e-4db5-9566-b3b7aa22534b",
   "metadata": {},
   "outputs": [],
   "source": [
    "# Initial imports\n",
    "import os\n",
    "import requests\n",
    "import pandas as pd\n",
    "from dotenv import load_dotenv\n",
    "import alpaca_trade_api as tradeapi\n",
    "import json\n",
    "\n",
    "%matplotlib inline"
   ]
  },
  {
   "cell_type": "code",
   "execution_count": 14,
   "id": "d4d75c94-7141-422e-9cd5-c80771f1ff1b",
   "metadata": {},
   "outputs": [
    {
     "data": {
      "text/plain": [
       "True"
      ]
     },
     "execution_count": 14,
     "metadata": {},
     "output_type": "execute_result"
    }
   ],
   "source": [
    "# Load .env enviroment variables\n",
    "load_dotenv()"
   ]
  },
  {
   "cell_type": "markdown",
   "id": "57e38e66-fc3b-4851-92a1-18d768d77b3f",
   "metadata": {},
   "source": [
    "## Building a Cryptocurrency DataFrame"
   ]
  },
  {
   "cell_type": "code",
   "execution_count": 15,
   "id": "55086b8b-6894-4b31-bf4d-49b6244cba5c",
   "metadata": {},
   "outputs": [
    {
     "data": {
      "text/html": [
       "<div>\n",
       "<style scoped>\n",
       "    .dataframe tbody tr th:only-of-type {\n",
       "        vertical-align: middle;\n",
       "    }\n",
       "\n",
       "    .dataframe tbody tr th {\n",
       "        vertical-align: top;\n",
       "    }\n",
       "\n",
       "    .dataframe thead th {\n",
       "        text-align: right;\n",
       "    }\n",
       "</style>\n",
       "<table border=\"1\" class=\"dataframe\">\n",
       "  <thead>\n",
       "    <tr style=\"text-align: right;\">\n",
       "      <th></th>\n",
       "      <th>Hodlings</th>\n",
       "    </tr>\n",
       "  </thead>\n",
       "  <tbody>\n",
       "    <tr>\n",
       "      <th>BTC</th>\n",
       "      <td>1</td>\n",
       "    </tr>\n",
       "    <tr>\n",
       "      <th>ETH</th>\n",
       "      <td>5</td>\n",
       "    </tr>\n",
       "    <tr>\n",
       "      <th>DOT</th>\n",
       "      <td>50</td>\n",
       "    </tr>\n",
       "    <tr>\n",
       "      <th>UNI</th>\n",
       "      <td>75</td>\n",
       "    </tr>\n",
       "    <tr>\n",
       "      <th>LINK</th>\n",
       "      <td>100</td>\n",
       "    </tr>\n",
       "    <tr>\n",
       "      <th>MANA</th>\n",
       "      <td>5000</td>\n",
       "    </tr>\n",
       "    <tr>\n",
       "      <th>ERG</th>\n",
       "      <td>15000</td>\n",
       "    </tr>\n",
       "    <tr>\n",
       "      <th>ADA</th>\n",
       "      <td>25000</td>\n",
       "    </tr>\n",
       "    <tr>\n",
       "      <th>VET</th>\n",
       "      <td>50000</td>\n",
       "    </tr>\n",
       "    <tr>\n",
       "      <th>RSR</th>\n",
       "      <td>100000</td>\n",
       "    </tr>\n",
       "  </tbody>\n",
       "</table>\n",
       "</div>"
      ],
      "text/plain": [
       "      Hodlings\n",
       "BTC          1\n",
       "ETH          5\n",
       "DOT         50\n",
       "UNI         75\n",
       "LINK       100\n",
       "MANA      5000\n",
       "ERG      15000\n",
       "ADA      25000\n",
       "VET      50000\n",
       "RSR     100000"
      ]
     },
     "execution_count": 15,
     "metadata": {},
     "output_type": "execute_result"
    }
   ],
   "source": [
    "# Set current amount BTC Hodlings\n",
    "\n",
    "my_btc = 1\n",
    "my_eth = 1\n",
    "my_dot = 50\n",
    "my_uni = 75\n",
    "my_link = 100\n",
    "my_mana = 5000\n",
    "my_erg = 15000\n",
    "my_ada = 25000\n",
    "my_vet = 50000\n",
    "my_rsr = 100000\n",
    "\n",
    "\n",
    "crypto_data = {\n",
    "    \n",
    "    \"Hodlings\": [1, 5, 50, 75, 100, 5000, 15000, 25000, 50000, 100000]\n",
    "}\n",
    "\n",
    "# Set BTC ticker\n",
    "\n",
    "crypto_tickers = [\"BTC\", \"ETH\", \"DOT\", \"UNI\", \"LINK\", \"MANA\", \"ERG\", \"ADA\", \"VET\", \"RSR\"]\n",
    "\n",
    "# display sample data\n",
    "df_Hodlings = pd.DataFrame(crypto_data, index = crypto_tickers)\n",
    "\n",
    "# Display BTC holdings\n",
    "df_Hodlings"
   ]
  },
  {
   "cell_type": "code",
   "execution_count": 16,
   "id": "9d75ee59-c4b4-43a1-ab02-689c68d9fc8e",
   "metadata": {
    "tags": []
   },
   "outputs": [],
   "source": [
    "# Crypto API URLs\n",
    "\n",
    "import requests\n",
    "\n",
    "btc_url = \"https://api.alternative.me/v2/ticker/Bitcoin/?convert=CAD\"\n",
    "eth_url = \"https://api.alternative.me/v2/ticker/Ethereum/?convert=CAD\"\n",
    "dot_url = \"https://api.alternative.me/v2/ticker/Polkadot/?convert=CAD\"\n",
    "uni_url = \"https://api.alternative.me/v2/ticker/Uniswap/?convert=CAD\"\n",
    "link_url = \"https://api.alternative.me/v2/ticker/Chainlink/?convert=CAD\"\n",
    "mana_url = \"https://api.alternative.me/v2/ticker/Decentraland/?convert=CAD\"\n",
    "erg_url = \"https://api.alternative.me/v2/ticker/Ergo/?convert=CAD\"\n",
    "ada_url = \"https://api.alternative.me/v2/ticker/Cardano/?convert=CAD\"\n",
    "vet_url = \"https://api.alternative.me/v2/ticker/VeChain/?convert=CAD\"\n",
    "rsr_url = \"https://api.alternative.me/v2/ticker/Reserve/?convert=CAD\""
   ]
  },
  {
   "cell_type": "code",
   "execution_count": 17,
   "id": "733f24b5-3964-432e-8cc0-6dafbc64b479",
   "metadata": {},
   "outputs": [],
   "source": [
    "# Fetch current BTC price\n",
    "my_btc_value = requests.get(btc_url).json()\n",
    "\n",
    "# Fetch current ETH price\n",
    "my_eth_value = requests.get(eth_url).json()\n",
    "\n",
    "# Fetch current DOT price\n",
    "#my_dot_value = requests.get(dot_url).json()"
   ]
  },
  {
   "cell_type": "code",
   "execution_count": 18,
   "id": "dcd0c4c8-9332-4367-8e02-601a26af0b50",
   "metadata": {
    "collapsed": true,
    "jupyter": {
     "outputs_hidden": true
    },
    "tags": []
   },
   "outputs": [
    {
     "name": "stdout",
     "output_type": "stream",
     "text": [
      "{\n",
      "    \"data\": {\n",
      "        \"1\": {\n",
      "            \"id\": 1,\n",
      "            \"name\": \"Bitcoin\",\n",
      "            \"symbol\": \"BTC\",\n",
      "            \"website_slug\": \"bitcoin\",\n",
      "            \"rank\": 1,\n",
      "            \"circulating_supply\": 18755425,\n",
      "            \"total_supply\": 18755425,\n",
      "            \"max_supply\": 21000000,\n",
      "            \"quotes\": {\n",
      "                \"USD\": {\n",
      "                    \"price\": 32481.0,\n",
      "                    \"volume_24h\": 20374828141,\n",
      "                    \"market_cap\": 607702580038,\n",
      "                    \"percentage_change_1h\": -0.0758645267059379,\n",
      "                    \"percentage_change_24h\": -1.29704021834992,\n",
      "                    \"percentage_change_7d\": -4.26407920749985,\n",
      "                    \"percent_change_1h\": -0.0758645267059379,\n",
      "                    \"percent_change_24h\": -1.29704021834992,\n",
      "                    \"percent_change_7d\": -4.26407920749985\n",
      "                },\n",
      "                \"CAD\": {\n",
      "                    \"price\": 40672.7082,\n",
      "                    \"volume_24h\": 25513359798.1602,\n",
      "                    \"market_cap\": 760965170723.583,\n",
      "                    \"percent_change_1h\": -0.0758645267059379,\n",
      "                    \"percent_change_24h\": -1.29704021834992,\n",
      "                    \"percent_change_7d\": -4.26407920749985\n",
      "                }\n",
      "            },\n",
      "            \"last_updated\": 1626207866\n",
      "        }\n",
      "    },\n",
      "    \"metadata\": {\n",
      "        \"timestamp\": 1626207866,\n",
      "        \"num_cryptocurrencies\": 1275,\n",
      "        \"error\": null\n",
      "    }\n",
      "}\n",
      "{\n",
      "    \"data\": {\n",
      "        \"1027\": {\n",
      "            \"id\": 1027,\n",
      "            \"name\": \"Ethereum\",\n",
      "            \"symbol\": \"ETH\",\n",
      "            \"website_slug\": \"ethereum\",\n",
      "            \"rank\": 2,\n",
      "            \"circulating_supply\": 116679769,\n",
      "            \"total_supply\": 116679769,\n",
      "            \"max_supply\": 0,\n",
      "            \"quotes\": {\n",
      "                \"USD\": {\n",
      "                    \"price\": 1942.84,\n",
      "                    \"volume_24h\": 18248975160,\n",
      "                    \"market_cap\": 225137518715,\n",
      "                    \"percentage_change_1h\": -0.661260393793468,\n",
      "                    \"percentage_change_24h\": -4.45930614352276,\n",
      "                    \"percentage_change_7d\": -12.3780319787845,\n",
      "                    \"percent_change_1h\": -0.661260393793468,\n",
      "                    \"percent_change_24h\": -4.45930614352276,\n",
      "                    \"percent_change_7d\": -12.3780319787845\n",
      "                },\n",
      "                \"CAD\": {\n",
      "                    \"price\": 2432.824248,\n",
      "                    \"volume_24h\": 22851366695.352,\n",
      "                    \"market_cap\": 281917200934.923,\n",
      "                    \"percent_change_1h\": -0.661260393793468,\n",
      "                    \"percent_change_24h\": -4.45930614352276,\n",
      "                    \"percent_change_7d\": -12.3780319787845\n",
      "                }\n",
      "            },\n",
      "            \"last_updated\": 1626207868\n",
      "        }\n",
      "    },\n",
      "    \"metadata\": {\n",
      "        \"timestamp\": 1626207868,\n",
      "        \"num_cryptocurrencies\": 1275,\n",
      "        \"error\": null\n",
      "    }\n",
      "}\n"
     ]
    }
   ],
   "source": [
    "# Parse API JSON request and store in designated values:\n",
    "\n",
    "print(json.dumps(my_btc_value, indent=4))\n",
    "\n",
    "print(json.dumps(my_eth_value, indent=4))\n",
    "\n",
    "#print(json.dumps(my_dot_value, indent=4))"
   ]
  },
  {
   "cell_type": "code",
   "execution_count": 19,
   "id": "0179c35c-fcdc-4541-adac-f610eb18bd17",
   "metadata": {},
   "outputs": [],
   "source": [
    "# Parse the data for BTC and ETH\n",
    "\n",
    "btc_price = my_btc_value[\"data\"][\"1\"][\"quotes\"][\"USD\"][\"price\"]\n",
    "\n",
    "eth_price = my_eth_value[\"data\"][\"1027\"][\"quotes\"][\"USD\"][\"price\"]"
   ]
  },
  {
   "cell_type": "code",
   "execution_count": 20,
   "id": "61a2ac87-034b-4d4c-8368-21e98c5b7da6",
   "metadata": {},
   "outputs": [
    {
     "name": "stdout",
     "output_type": "stream",
     "text": [
      "The current value of your 1 BTC is $32481.00\n",
      "The current value of your 1 ETH is $1942.84\n"
     ]
    }
   ],
   "source": [
    "# Compute current value of my crypto\n",
    "my_btc_value = my_btc * btc_price\n",
    "\n",
    "my_eth_value = my_eth * eth_price\n",
    "\n",
    "# Print current crypto wallet balance\n",
    "print(f\"The current value of your {my_btc} BTC is ${my_btc_value:0.2f}\")\n",
    "print(f\"The current value of your {my_eth} ETH is ${my_eth_value:0.2f}\")"
   ]
  },
  {
   "cell_type": "code",
   "execution_count": 25,
   "id": "bd5df854-c461-4f27-b34f-4d0f6202135c",
   "metadata": {
    "tags": []
   },
   "outputs": [],
   "source": [
    "import requests"
   ]
  },
  {
   "cell_type": "code",
   "execution_count": 26,
   "id": "9305db9a-039c-4c73-b8b9-31b3b59995e3",
   "metadata": {},
   "outputs": [
    {
     "ename": "NameError",
     "evalue": "name 'alpaca_api_key' is not defined",
     "output_type": "error",
     "traceback": [
      "\u001b[1;31m---------------------------------------------------------------------------\u001b[0m",
      "\u001b[1;31mNameError\u001b[0m                                 Traceback (most recent call last)",
      "\u001b[1;32m<ipython-input-26-ba8e39d3955b>\u001b[0m in \u001b[0;36m<module>\u001b[1;34m\u001b[0m\n\u001b[0;32m      7\u001b[0m \u001b[1;33m\u001b[0m\u001b[0m\n\u001b[0;32m      8\u001b[0m alpaca = tradeapi.REST(\n\u001b[1;32m----> 9\u001b[1;33m     \u001b[0malpaca_api_key\u001b[0m\u001b[1;33m,\u001b[0m\u001b[1;33m\u001b[0m\u001b[1;33m\u001b[0m\u001b[0m\n\u001b[0m\u001b[0;32m     10\u001b[0m     \u001b[0malpaca_secret_key\u001b[0m\u001b[1;33m,\u001b[0m\u001b[1;33m\u001b[0m\u001b[1;33m\u001b[0m\u001b[0m\n\u001b[0;32m     11\u001b[0m     api_version=\"v2\")\n",
      "\u001b[1;31mNameError\u001b[0m: name 'alpaca_api_key' is not defined"
     ]
    }
   ],
   "source": [
    "# Set Alpaca API key and secret\n",
    "\n",
    "API_KEY_ID = os.getenv(\"ALPACA_API_KEY\")\n",
    "API_SECRET_KEY = os.getenv(\"ALPACA_SECRET_KEY\")\n",
    "\n",
    "# Create the Alpaca API object\n",
    "\n",
    "alpaca = tradeapi.REST(\n",
    "    alpaca_api_key,\n",
    "    alpaca_secret_key,\n",
    "    api_version=\"v2\")\n",
    "alpaca"
   ]
  },
  {
   "cell_type": "code",
   "execution_count": 24,
   "id": "c81bc16c-bb38-4c3f-916b-9f9fe7da7f31",
   "metadata": {},
   "outputs": [
    {
     "ename": "NameError",
     "evalue": "name 'API_KEY_ID' is not defined",
     "output_type": "error",
     "traceback": [
      "\u001b[1;31m---------------------------------------------------------------------------\u001b[0m",
      "\u001b[1;31mNameError\u001b[0m                                 Traceback (most recent call last)",
      "\u001b[1;32m<ipython-input-24-23efb3208ed2>\u001b[0m in \u001b[0;36m<module>\u001b[1;34m\u001b[0m\n\u001b[1;32m----> 1\u001b[1;33m \u001b[0mresult\u001b[0m \u001b[1;33m=\u001b[0m \u001b[0mrequests\u001b[0m\u001b[1;33m.\u001b[0m\u001b[0mget\u001b[0m\u001b[1;33m(\u001b[0m\u001b[1;34m'https://api.alternative.me/v2/ticker/Bitcoin/?convert=CAD&apikey='\u001b[0m \u001b[1;33m+\u001b[0m \u001b[0mAPI_KEY_ID\u001b[0m\u001b[1;33m)\u001b[0m\u001b[1;33m\u001b[0m\u001b[1;33m\u001b[0m\u001b[0m\n\u001b[0m",
      "\u001b[1;31mNameError\u001b[0m: name 'API_KEY_ID' is not defined"
     ]
    }
   ],
   "source": [
    "result = requests.get('https://api.alternative.me/v2/ticker/Bitcoin/?convert=CAD&apikey=' + API_KEY_ID)"
   ]
  },
  {
   "cell_type": "code",
   "execution_count": 23,
   "id": "d730d999-a90c-4f3a-8195-3f929f51267f",
   "metadata": {
    "tags": []
   },
   "outputs": [
    {
     "ename": "NameError",
     "evalue": "name 'result' is not defined",
     "output_type": "error",
     "traceback": [
      "\u001b[1;31m---------------------------------------------------------------------------\u001b[0m",
      "\u001b[1;31mNameError\u001b[0m                                 Traceback (most recent call last)",
      "\u001b[1;32m<ipython-input-23-b43a2e5c6d4a>\u001b[0m in \u001b[0;36m<module>\u001b[1;34m\u001b[0m\n\u001b[1;32m----> 1\u001b[1;33m \u001b[0mresult\u001b[0m\u001b[1;33m.\u001b[0m\u001b[0mstatus_code\u001b[0m\u001b[1;33m\u001b[0m\u001b[1;33m\u001b[0m\u001b[0m\n\u001b[0m",
      "\u001b[1;31mNameError\u001b[0m: name 'result' is not defined"
     ]
    }
   ],
   "source": [
    "result.status_code"
   ]
  },
  {
   "cell_type": "code",
   "execution_count": 53,
   "id": "dbb7246a-90c7-4b97-8566-d826d3392271",
   "metadata": {
    "collapsed": true,
    "jupyter": {
     "outputs_hidden": true
    },
    "tags": []
   },
   "outputs": [
    {
     "data": {
      "text/plain": [
       "'{\\n\\t\"data\": {\\n\\t\\t\"1\": {\\n\\t\\t\\t\"id\": 1,\\n\\t\\t\\t\"name\": \"Bitcoin\",\\n\\t\\t\\t\"symbol\": \"BTC\",\\n\\t\\t\\t\"website_slug\": \"bitcoin\",\\n\\t\\t\\t\"rank\": 1,\\n\\t\\t\\t\"circulating_supply\": 18754756,\\n\\t\\t\\t\"total_supply\": 18754756,\\n\\t\\t\\t\"max_supply\": 21000000,\\n\\t\\t\\t\"quotes\": {\\n\\t\\t\\t\\t\"USD\": {\\n\\t\\t\\t\\t\\t\"price\": 33068.0000000000000000,\\n\\t\\t\\t\\t\\t\"volume_24h\": 21766324476,\\n\\t\\t\\t\\t\\t\"market_cap\": 623799178149,\\n\\t\\t\\t\\t\\t\"percentage_change_1h\": -0.6279564600559560,\\n\\t\\t\\t\\t\\t\"percentage_change_24h\": -3.4130334309344600,\\n\\t\\t\\t\\t\\t\"percentage_change_7d\": -2.5340394101451400,\\n\\t\\t\\t\\t\\t\"percent_change_1h\": -0.6279564600559560,\\n\\t\\t\\t\\t\\t\"percent_change_24h\": -3.4130334309344600,\\n\\t\\t\\t\\t\\t\"percent_change_7d\": -2.5340394101451400\\n\\t\\t\\t\\t},\\n\\t\\t\\t\\t\"CAD\": {\\n\\t\\t\\t\\t\\t\"price\": 41189.5008,\\n\\t\\t\\t\\t\\t\"volume_24h\": 27112133767.3056,\\n\\t\\t\\t\\t\\t\"market_cap\": 777004256302.394,\\n\\t\\t\\t\\t\\t\"percent_change_1h\": -0.6279564600559560,\\n\\t\\t\\t\\t\\t\"percent_change_24h\": -3.4130334309344600,\\n\\t\\t\\t\\t\\t\"percent_change_7d\": -2.5340394101451400\\n\\t\\t\\t\\t}\\n\\t\\t\\t},\\n\\t\\t\\t\"last_updated\": 1626136204\\n\\t\\t}\\n\\t},\\n\\t\"metadata\": {\\n\\t\\t\"timestamp\": 1626136204,\\n\\t\\t\"num_cryptocurrencies\": 1277,\\n\\t\\t\"error\": null\\n\\t}\\n}'"
      ]
     },
     "execution_count": 53,
     "metadata": {},
     "output_type": "execute_result"
    }
   ],
   "source": [
    "result.text"
   ]
  },
  {
   "cell_type": "code",
   "execution_count": 54,
   "id": "3f34cc0e-53c1-43fd-9c0f-8425efa65d7a",
   "metadata": {
    "collapsed": true,
    "jupyter": {
     "outputs_hidden": true
    },
    "tags": []
   },
   "outputs": [
    {
     "data": {
      "text/plain": [
       "{'data': {'1': {'id': 1,\n",
       "   'name': 'Bitcoin',\n",
       "   'symbol': 'BTC',\n",
       "   'website_slug': 'bitcoin',\n",
       "   'rank': 1,\n",
       "   'circulating_supply': 18754756,\n",
       "   'total_supply': 18754756,\n",
       "   'max_supply': 21000000,\n",
       "   'quotes': {'USD': {'price': 33068.0,\n",
       "     'volume_24h': 21766324476,\n",
       "     'market_cap': 623799178149,\n",
       "     'percentage_change_1h': -0.627956460055956,\n",
       "     'percentage_change_24h': -3.41303343093446,\n",
       "     'percentage_change_7d': -2.53403941014514,\n",
       "     'percent_change_1h': -0.627956460055956,\n",
       "     'percent_change_24h': -3.41303343093446,\n",
       "     'percent_change_7d': -2.53403941014514},\n",
       "    'CAD': {'price': 41189.5008,\n",
       "     'volume_24h': 27112133767.3056,\n",
       "     'market_cap': 777004256302.394,\n",
       "     'percent_change_1h': -0.627956460055956,\n",
       "     'percent_change_24h': -3.41303343093446,\n",
       "     'percent_change_7d': -2.53403941014514}},\n",
       "   'last_updated': 1626136204}},\n",
       " 'metadata': {'timestamp': 1626136204,\n",
       "  'num_cryptocurrencies': 1277,\n",
       "  'error': None}}"
      ]
     },
     "execution_count": 54,
     "metadata": {},
     "output_type": "execute_result"
    }
   ],
   "source": [
    "result.json()"
   ]
  },
  {
   "cell_type": "code",
   "execution_count": 55,
   "id": "0e418167-9074-4581-9645-8ba9f1d01616",
   "metadata": {
    "tags": []
   },
   "outputs": [],
   "source": [
    "API_KEY = 'BTC'"
   ]
  },
  {
   "cell_type": "code",
   "execution_count": 56,
   "id": "ca9270c4-7668-4d01-8e55-2b2cc7390ce7",
   "metadata": {
    "jupyter": {
     "source_hidden": true
    },
    "tags": []
   },
   "outputs": [],
   "source": [
    "date=pd.Timestamp('2021-07-11').isoformat()"
   ]
  },
  {
   "cell_type": "code",
   "execution_count": 67,
   "id": "f798bcb2-1e3f-455a-a93d-44f2ea94f50d",
   "metadata": {},
   "outputs": [],
   "source": [
    "# set and start end dates of 5 years back from today\n",
    "\n",
    "start_date = pd.Timestamp('2016-06-18', tz = 'America/New_York').isoformat()\n",
    "\n",
    "end_date = pd.Timestamp('2021-06-18', tz = 'America/New_York').isoformat()"
   ]
  },
  {
   "cell_type": "code",
   "execution_count": 68,
   "id": "0efd85f5-87b1-4126-bdbd-c409850a3902",
   "metadata": {},
   "outputs": [
    {
     "ename": "AttributeError",
     "evalue": "module 'requests' has no attribute 'get_barset'",
     "output_type": "error",
     "traceback": [
      "\u001b[1;31m---------------------------------------------------------------------------\u001b[0m",
      "\u001b[1;31mAttributeError\u001b[0m                            Traceback (most recent call last)",
      "\u001b[1;32m<ipython-input-68-e372798775db>\u001b[0m in \u001b[0;36m<module>\u001b[1;34m\u001b[0m\n\u001b[0;32m      1\u001b[0m \u001b[1;31m# 5 years worth of historical data\u001b[0m\u001b[1;33m\u001b[0m\u001b[1;33m\u001b[0m\u001b[1;33m\u001b[0m\u001b[0m\n\u001b[0;32m      2\u001b[0m \u001b[1;33m\u001b[0m\u001b[0m\n\u001b[1;32m----> 3\u001b[1;33m \u001b[0mdf_crypto_data\u001b[0m \u001b[1;33m=\u001b[0m \u001b[0mrequests\u001b[0m\u001b[1;33m.\u001b[0m\u001b[0mget_barset\u001b[0m\u001b[1;33m(\u001b[0m\u001b[0mtickers\u001b[0m\u001b[1;33m,\u001b[0m \u001b[0mtimeframe\u001b[0m\u001b[1;33m,\u001b[0m \u001b[0mstart\u001b[0m \u001b[1;33m=\u001b[0m \u001b[0mstart_date\u001b[0m\u001b[1;33m,\u001b[0m \u001b[0mend\u001b[0m \u001b[1;33m=\u001b[0m \u001b[0mend_date\u001b[0m\u001b[1;33m)\u001b[0m\u001b[1;33m.\u001b[0m\u001b[0mdf\u001b[0m\u001b[1;33m\u001b[0m\u001b[1;33m\u001b[0m\u001b[0m\n\u001b[0m\u001b[0;32m      4\u001b[0m \u001b[1;33m\u001b[0m\u001b[0m\n\u001b[0;32m      5\u001b[0m \u001b[1;31m# display sample data\u001b[0m\u001b[1;33m\u001b[0m\u001b[1;33m\u001b[0m\u001b[1;33m\u001b[0m\u001b[0m\n",
      "\u001b[1;31mAttributeError\u001b[0m: module 'requests' has no attribute 'get_barset'"
     ]
    }
   ],
   "source": [
    "# 5 years worth of historical data\n",
    "\n",
    "df_crypto_data = requests.get_barset(tickers, timeframe, start = start_date, end = end_date).df\n",
    "\n",
    "# display sample data\n",
    "df_stock_data.head()\n"
   ]
  },
  {
   "cell_type": "code",
   "execution_count": 72,
   "id": "1cf765ab-867c-43db-a407-ddbb61f0b2d5",
   "metadata": {},
   "outputs": [
    {
     "ename": "NameError",
     "evalue": "name 'today' is not defined",
     "output_type": "error",
     "traceback": [
      "\u001b[1;31m---------------------------------------------------------------------------\u001b[0m",
      "\u001b[1;31mNameError\u001b[0m                                 Traceback (most recent call last)",
      "\u001b[1;32m<ipython-input-72-9deeac509646>\u001b[0m in \u001b[0;36m<module>\u001b[1;34m\u001b[0m\n\u001b[0;32m      1\u001b[0m \u001b[1;31m# Format current date as ISO format\u001b[0m\u001b[1;33m\u001b[0m\u001b[1;33m\u001b[0m\u001b[1;33m\u001b[0m\u001b[0m\n\u001b[0;32m      2\u001b[0m \u001b[0mstart\u001b[0m \u001b[1;33m=\u001b[0m \u001b[0mpd\u001b[0m\u001b[1;33m.\u001b[0m\u001b[0mTimestamp\u001b[0m\u001b[1;33m(\u001b[0m\u001b[1;34m\"2020-07-14\"\u001b[0m\u001b[1;33m,\u001b[0m \u001b[0mtz\u001b[0m\u001b[1;33m=\u001b[0m\u001b[1;34m\"America/New_York\"\u001b[0m\u001b[1;33m)\u001b[0m\u001b[1;33m.\u001b[0m\u001b[0misoformat\u001b[0m\u001b[1;33m(\u001b[0m\u001b[1;33m)\u001b[0m\u001b[1;33m\u001b[0m\u001b[1;33m\u001b[0m\u001b[0m\n\u001b[1;32m----> 3\u001b[1;33m \u001b[0mtoday\u001b[0m\u001b[1;33m\u001b[0m\u001b[1;33m\u001b[0m\u001b[0m\n\u001b[0m\u001b[0;32m      4\u001b[0m \u001b[1;33m\u001b[0m\u001b[0m\n\u001b[0;32m      5\u001b[0m \u001b[1;31m# Set the tickers\u001b[0m\u001b[1;33m\u001b[0m\u001b[1;33m\u001b[0m\u001b[1;33m\u001b[0m\u001b[0m\n",
      "\u001b[1;31mNameError\u001b[0m: name 'today' is not defined"
     ]
    }
   ],
   "source": [
    "# Format current date as ISO format\n",
    "start = pd.Timestamp(\"2020-07-14\", tz=\"America/New_York\").isoformat()\n",
    "today\n",
    "\n",
    "# Set the tickers\n",
    "crypto_tickers = [\"BTC\", \"ETH\", \"DOT\", \"UNI\", \"LINK\", \"MANA\", \"ERG\", \"ADA\", \"VET\", \"RSR\"]\n",
    "\n",
    "# Set timeframe to '1D' for Alpaca API\n",
    "timeframe = \"1D\"\n"
   ]
  },
  {
   "cell_type": "code",
   "execution_count": null,
   "id": "96b989b4-669a-4a01-9673-eed52734a753",
   "metadata": {},
   "outputs": [],
   "source": [
    "# Get current closing prices for all crypto\n",
    "\n",
    "df_portfolio = alpaca.get_barset(\n",
    "    tickers,\n",
    "    timeframe,\n",
    "    start = start,\n",
    "    end = end\n",
    ").df\n",
    "\n",
    "# Preview DataFrame\n",
    "df_portfolio.to_csv(\"crypto.csv\")"
   ]
  }
 ],
 "metadata": {
  "kernelspec": {
   "display_name": "Python [conda env:pyvizenv] *",
   "language": "python",
   "name": "conda-env-pyvizenv-py"
  },
  "language_info": {
   "codemirror_mode": {
    "name": "ipython",
    "version": 3
   },
   "file_extension": ".py",
   "mimetype": "text/x-python",
   "name": "python",
   "nbconvert_exporter": "python",
   "pygments_lexer": "ipython3",
   "version": "3.7.10"
  }
 },
 "nbformat": 4,
 "nbformat_minor": 5
}
