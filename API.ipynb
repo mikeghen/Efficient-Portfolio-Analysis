{
 "cells": [
  {
   "cell_type": "markdown",
   "id": "375bbc1c-4ada-44d9-93c0-b952a53cbc78",
   "metadata": {},
   "source": [
    "API - DATA"
   ]
  },
  {
   "cell_type": "code",
   "execution_count": 3,
   "id": "842fa8e7-a15e-4db5-9566-b3b7aa22534b",
   "metadata": {},
   "outputs": [],
   "source": [
    "# Initial imports\n",
    "import os\n",
    "import requests\n",
    "import pandas as pd\n",
    "from dotenv import load_dotenv\n",
    "import alpaca_trade_api as tradeapi\n",
    "import json\n",
    "\n",
    "%matplotlib inline"
   ]
  },
  {
   "cell_type": "code",
   "execution_count": 4,
   "id": "d4d75c94-7141-422e-9cd5-c80771f1ff1b",
   "metadata": {},
   "outputs": [
    {
     "data": {
      "text/plain": [
       "True"
      ]
     },
     "execution_count": 4,
     "metadata": {},
     "output_type": "execute_result"
    }
   ],
   "source": [
    "# Load .env enviroment variables\n",
    "load_dotenv()"
   ]
  },
  {
   "cell_type": "markdown",
   "id": "57e38e66-fc3b-4851-92a1-18d768d77b3f",
   "metadata": {},
   "source": [
    "## Building a Cryptocurrency DataFrame"
   ]
  },
  {
   "cell_type": "code",
   "execution_count": 7,
   "id": "55086b8b-6894-4b31-bf4d-49b6244cba5c",
   "metadata": {},
   "outputs": [
    {
     "data": {
      "text/html": [
       "<div>\n",
       "<style scoped>\n",
       "    .dataframe tbody tr th:only-of-type {\n",
       "        vertical-align: middle;\n",
       "    }\n",
       "\n",
       "    .dataframe tbody tr th {\n",
       "        vertical-align: top;\n",
       "    }\n",
       "\n",
       "    .dataframe thead th {\n",
       "        text-align: right;\n",
       "    }\n",
       "</style>\n",
       "<table border=\"1\" class=\"dataframe\">\n",
       "  <thead>\n",
       "    <tr style=\"text-align: right;\">\n",
       "      <th></th>\n",
       "      <th>Hodlings</th>\n",
       "    </tr>\n",
       "  </thead>\n",
       "  <tbody>\n",
       "    <tr>\n",
       "      <th>BTC</th>\n",
       "      <td>1</td>\n",
       "    </tr>\n",
       "    <tr>\n",
       "      <th>ETH</th>\n",
       "      <td>5</td>\n",
       "    </tr>\n",
       "    <tr>\n",
       "      <th>DOT</th>\n",
       "      <td>50</td>\n",
       "    </tr>\n",
       "    <tr>\n",
       "      <th>UNI</th>\n",
       "      <td>75</td>\n",
       "    </tr>\n",
       "    <tr>\n",
       "      <th>LINK</th>\n",
       "      <td>100</td>\n",
       "    </tr>\n",
       "    <tr>\n",
       "      <th>MANA</th>\n",
       "      <td>5000</td>\n",
       "    </tr>\n",
       "    <tr>\n",
       "      <th>ERG</th>\n",
       "      <td>15000</td>\n",
       "    </tr>\n",
       "    <tr>\n",
       "      <th>ADA</th>\n",
       "      <td>25000</td>\n",
       "    </tr>\n",
       "    <tr>\n",
       "      <th>VET</th>\n",
       "      <td>50000</td>\n",
       "    </tr>\n",
       "    <tr>\n",
       "      <th>RSR</th>\n",
       "      <td>100000</td>\n",
       "    </tr>\n",
       "  </tbody>\n",
       "</table>\n",
       "</div>"
      ],
      "text/plain": [
       "      Hodlings\n",
       "BTC          1\n",
       "ETH          5\n",
       "DOT         50\n",
       "UNI         75\n",
       "LINK       100\n",
       "MANA      5000\n",
       "ERG      15000\n",
       "ADA      25000\n",
       "VET      50000\n",
       "RSR     100000"
      ]
     },
     "execution_count": 7,
     "metadata": {},
     "output_type": "execute_result"
    }
   ],
   "source": [
    "# Set current amount BTC Hodlings\n",
    "\n",
    "my_btc = 1\n",
    "my_eth = 5\n",
    "my_dot = 50\n",
    "my_uni = 75\n",
    "my_link = 100\n",
    "my_mana = 5000\n",
    "my_erg = 15000\n",
    "my_ada = 25000\n",
    "my_vet = 50000\n",
    "my_rsr = 100000\n",
    "\n",
    "\n",
    "crypto_data = {\n",
    "    \n",
    "    \"Hodlings\": [1, 5, 50, 75, 100, 5000, 15000, 25000, 50000, 100000]\n",
    "}\n",
    "\n",
    "# Set BTC ticker\n",
    "\n",
    "crypto_tickers = [\"BTC\", \"ETH\", \"DOT\", \"UNI\", \"LINK\", \"MANA\", \"ERG\", \"ADA\", \"VET\", \"RSR\"]\n",
    "\n",
    "# display sample data\n",
    "df_Hodlings = pd.DataFrame(crypto_data, index = crypto_tickers)\n",
    "\n",
    "# Display BTC holdings\n",
    "df_Hodlings"
   ]
  },
  {
   "cell_type": "code",
   "execution_count": null,
   "id": "9d75ee59-c4b4-43a1-ab02-689c68d9fc8e",
   "metadata": {},
   "outputs": [],
   "source": [
    "# Crypto API URLs\n",
    "\n",
    "import requests\n",
    "\n",
    "btc_url = \"https://api.alternative.me/v2/ticker/Bitcoin/?convert=CAD\"\n",
    "eth_url = \"https://api.alternative.me/v2/ticker/Ethereum/?convert=CAD\"\n",
    "#dot_url = \"https://api.alternative.me/v2/ticker/Polkadot/?convert=CAD\"\n",
    "#uni_url = \"https://api.alternative.me/v2/ticker/Uniswap/?convert=CAD\"\n",
    "#link_url = \"https://api.alternative.me/v2/ticker/Chainlink/?convert=CAD\"\n",
    "#mana_url = \"https://api.alternative.me/v2/ticker/Decentraland/?convert=CAD\"\n",
    "#erg_url = \"https://api.alternative.me/v2/ticker/Ergo/?convert=CAD\"\n",
    "#ada_url = \"https://api.alternative.me/v2/ticker/Cardano/?convert=CAD\"\n",
    "#vet_url = \"https://api.alternative.me/v2/ticker/VeChain/?convert=CAD\"\n",
    "#rsr_url = \"https://api.alternative.me/v2/ticker/ReserveRights/?convert=CAD\""
   ]
  }
 ],
 "metadata": {
  "kernelspec": {
   "display_name": "Python [conda env:pyvizenv] *",
   "language": "python",
   "name": "conda-env-pyvizenv-py"
  },
  "language_info": {
   "codemirror_mode": {
    "name": "ipython",
    "version": 3
   },
   "file_extension": ".py",
   "mimetype": "text/x-python",
   "name": "python",
   "nbconvert_exporter": "python",
   "pygments_lexer": "ipython3",
   "version": "3.7.10"
  }
 },
 "nbformat": 4,
 "nbformat_minor": 5
}
