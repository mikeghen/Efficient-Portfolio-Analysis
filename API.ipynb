{
 "cells": [
  {
   "cell_type": "markdown",
   "id": "375bbc1c-4ada-44d9-93c0-b952a53cbc78",
   "metadata": {},
   "source": [
    "API - DATA"
   ]
  },
  {
   "cell_type": "code",
   "execution_count": null,
   "id": "295e1e33-96aa-4295-ae0a-e32909dda45d",
   "metadata": {},
   "outputs": [],
   "source": []
  }
 ],
 "metadata": {
  "kernelspec": {
   "display_name": "Python 3",
   "language": "python",
   "name": "python3"
  },
  "language_info": {
   "codemirror_mode": {
    "name": "ipython",
    "version": 3
   },
   "file_extension": ".py",
   "mimetype": "text/x-python",
   "name": "python",
   "nbconvert_exporter": "python",
   "pygments_lexer": "ipython3",
   "version": "3.7.10"
  }
 },
 "nbformat": 4,
 "nbformat_minor": 5
}
