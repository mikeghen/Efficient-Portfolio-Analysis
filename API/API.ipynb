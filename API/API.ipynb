{
 "cells": [
  {
   "cell_type": "markdown",
   "id": "375bbc1c-4ada-44d9-93c0-b952a53cbc78",
   "metadata": {},
   "source": [
    "API - DATA"
   ]
  },
  {
   "cell_type": "markdown",
   "id": "2292cfab-f2c6-479e-a579-5fc784fe29af",
   "metadata": {},
   "source": [
    "test"
   ]
  },
  {
   "cell_type": "code",
   "execution_count": 109,
   "id": "ba1bce4e-4d7c-4bd2-804d-4aaeb4215abf",
   "metadata": {},
   "outputs": [],
   "source": [
    "# Initial imports\n",
    "import os\n",
    "import requests\n",
    "import pandas as pd\n",
    "from dotenv import load_dotenv\n",
    "import alpaca_trade_api as tradeapi\n",
    "import json\n",
    "\n",
    "%matplotlib inline"
   ]
  },
  {
   "cell_type": "code",
   "execution_count": 110,
   "id": "725c24b1-98b2-4559-9ab5-e7a2ab5be261",
   "metadata": {},
   "outputs": [
    {
     "data": {
      "text/plain": [
       "True"
      ]
     },
     "execution_count": 110,
     "metadata": {},
     "output_type": "execute_result"
    }
   ],
   "source": [
    "# Load .env enviroment variables\n",
    "load_dotenv()"
   ]
  },
  {
   "cell_type": "code",
   "execution_count": 111,
   "id": "4746a09e-ce95-475f-9e51-982e169997e7",
   "metadata": {},
   "outputs": [
    {
     "data": {
      "text/html": [
       "<div>\n",
       "<style scoped>\n",
       "    .dataframe tbody tr th:only-of-type {\n",
       "        vertical-align: middle;\n",
       "    }\n",
       "\n",
       "    .dataframe tbody tr th {\n",
       "        vertical-align: top;\n",
       "    }\n",
       "\n",
       "    .dataframe thead th {\n",
       "        text-align: right;\n",
       "    }\n",
       "</style>\n",
       "<table border=\"1\" class=\"dataframe\">\n",
       "  <thead>\n",
       "    <tr style=\"text-align: right;\">\n",
       "      <th></th>\n",
       "      <th>Shares</th>\n",
       "    </tr>\n",
       "  </thead>\n",
       "  <tbody>\n",
       "    <tr>\n",
       "      <th>GLD</th>\n",
       "      <td>1</td>\n",
       "    </tr>\n",
       "    <tr>\n",
       "      <th>BAR</th>\n",
       "      <td>1</td>\n",
       "    </tr>\n",
       "    <tr>\n",
       "      <th>UGL</th>\n",
       "      <td>1</td>\n",
       "    </tr>\n",
       "    <tr>\n",
       "      <th>DBP</th>\n",
       "      <td>1</td>\n",
       "    </tr>\n",
       "  </tbody>\n",
       "</table>\n",
       "</div>"
      ],
      "text/plain": [
       "     Shares\n",
       "GLD       1\n",
       "BAR       1\n",
       "UGL       1\n",
       "DBP       1"
      ]
     },
     "execution_count": 111,
     "metadata": {},
     "output_type": "execute_result"
    }
   ],
   "source": [
    "# Current amount of shares\n",
    "my_gld = 1\n",
    "my_bar = 1\n",
    "my_ugl = 1\n",
    "my_dbp = 1\n",
    "\n",
    "shares_data = {\n",
    "    \n",
    "    \"Shares\": [1, 1, 1, 1]\n",
    "}\n",
    "\n",
    "#set the tickers\n",
    "tickers = [\"GLD\", \"BAR\", \"UGL\", \"DBP\"]\n",
    "\n",
    "# Display sample data\n",
    "df_Shares = pd.DataFrame(shares_data, index=tickers)\n",
    "\n",
    "# Display shares data\n",
    "df_Shares"
   ]
  },
  {
   "cell_type": "code",
   "execution_count": 112,
   "id": "ee2ab10e-ac21-4453-a49e-10cbae1e62df",
   "metadata": {},
   "outputs": [
    {
     "data": {
      "text/plain": [
       "<alpaca_trade_api.rest.REST at 0x196b4edbf88>"
      ]
     },
     "execution_count": 112,
     "metadata": {},
     "output_type": "execute_result"
    }
   ],
   "source": [
    "# Set Alpaca API key and secret\n",
    "alpaca_api_key = os.getenv(\"ALPACA_API_KEY\")\n",
    "alpaca_secret_key = os.getenv(\"ALPACA_SECRET_KEY\")\n",
    "\n",
    "# Create the Alpaca API object\n",
    "alpaca = tradeapi.REST(\n",
    "    alpaca_api_key,\n",
    "    alpaca_secret_key,\n",
    "    api_version=\"v2\")\n",
    "alpaca"
   ]
  },
  {
   "cell_type": "code",
   "execution_count": 113,
   "id": "b9e6cf97-d58c-4b32-a58d-217fb2dba130",
   "metadata": {},
   "outputs": [
    {
     "name": "stdout",
     "output_type": "stream",
     "text": [
      "Alpaca Key type: <class 'str'>\n",
      "Alpaca Secret Key type: <class 'str'>\n"
     ]
    }
   ],
   "source": [
    " # Verify that Alpaca key and secret were correctly loaded\n",
    "print(f\"Alpaca Key type: {type(alpaca_api_key)}\")\n",
    "print(f\"Alpaca Secret Key type: {type(alpaca_secret_key)}\")"
   ]
  },
  {
   "cell_type": "code",
   "execution_count": 114,
   "id": "6a35b12f-ec12-4012-8de6-dc6684a7d888",
   "metadata": {},
   "outputs": [],
   "source": [
    "# Format current date as ISO format\n",
    "start = pd.Timestamp(\"2020-07-10\", tz=\"America/New_York\").isoformat()\n",
    "end = pd.Timestamp(\"2021-07-10\", tz=\"America/New_York\").isoformat()\n",
    "\n",
    "# Set the tickers\n",
    "tickers = [\"GLD\", \"BAR\", \"UGL\", \"DBP\"]\n",
    "\n",
    "# Set timeframe to '1D' for Alpaca API\n",
    "timeframe = \"1D\""
   ]
  },
  {
   "cell_type": "code",
   "execution_count": 115,
   "id": "5e862652-53b2-491c-8ff6-0bb7c4043330",
   "metadata": {
    "tags": []
   },
   "outputs": [
    {
     "data": {
      "text/html": [
       "<div>\n",
       "<style scoped>\n",
       "    .dataframe tbody tr th:only-of-type {\n",
       "        vertical-align: middle;\n",
       "    }\n",
       "\n",
       "    .dataframe tbody tr th {\n",
       "        vertical-align: top;\n",
       "    }\n",
       "\n",
       "    .dataframe thead tr th {\n",
       "        text-align: left;\n",
       "    }\n",
       "\n",
       "    .dataframe thead tr:last-of-type th {\n",
       "        text-align: right;\n",
       "    }\n",
       "</style>\n",
       "<table border=\"1\" class=\"dataframe\">\n",
       "  <thead>\n",
       "    <tr>\n",
       "      <th></th>\n",
       "      <th colspan=\"5\" halign=\"left\">BAR</th>\n",
       "      <th colspan=\"5\" halign=\"left\">DBP</th>\n",
       "      <th colspan=\"5\" halign=\"left\">GLD</th>\n",
       "      <th colspan=\"5\" halign=\"left\">UGL</th>\n",
       "    </tr>\n",
       "    <tr>\n",
       "      <th></th>\n",
       "      <th>open</th>\n",
       "      <th>high</th>\n",
       "      <th>low</th>\n",
       "      <th>close</th>\n",
       "      <th>volume</th>\n",
       "      <th>open</th>\n",
       "      <th>high</th>\n",
       "      <th>low</th>\n",
       "      <th>close</th>\n",
       "      <th>volume</th>\n",
       "      <th>open</th>\n",
       "      <th>high</th>\n",
       "      <th>low</th>\n",
       "      <th>close</th>\n",
       "      <th>volume</th>\n",
       "      <th>open</th>\n",
       "      <th>high</th>\n",
       "      <th>low</th>\n",
       "      <th>close</th>\n",
       "      <th>volume</th>\n",
       "    </tr>\n",
       "    <tr>\n",
       "      <th>time</th>\n",
       "      <th></th>\n",
       "      <th></th>\n",
       "      <th></th>\n",
       "      <th></th>\n",
       "      <th></th>\n",
       "      <th></th>\n",
       "      <th></th>\n",
       "      <th></th>\n",
       "      <th></th>\n",
       "      <th></th>\n",
       "      <th></th>\n",
       "      <th></th>\n",
       "      <th></th>\n",
       "      <th></th>\n",
       "      <th></th>\n",
       "      <th></th>\n",
       "      <th></th>\n",
       "      <th></th>\n",
       "      <th></th>\n",
       "      <th></th>\n",
       "    </tr>\n",
       "  </thead>\n",
       "  <tbody>\n",
       "    <tr>\n",
       "      <th>2021-07-09 00:00:00-04:00</th>\n",
       "      <td>17.92</td>\n",
       "      <td>18.0</td>\n",
       "      <td>17.9019</td>\n",
       "      <td>17.96</td>\n",
       "      <td>293683</td>\n",
       "      <td>49.78</td>\n",
       "      <td>50.2</td>\n",
       "      <td>49.78</td>\n",
       "      <td>50.1</td>\n",
       "      <td>7874</td>\n",
       "      <td>168.84</td>\n",
       "      <td>169.62</td>\n",
       "      <td>168.66</td>\n",
       "      <td>169.2</td>\n",
       "      <td>4619133</td>\n",
       "      <td>59.38</td>\n",
       "      <td>59.95</td>\n",
       "      <td>59.279</td>\n",
       "      <td>59.67</td>\n",
       "      <td>75157</td>\n",
       "    </tr>\n",
       "  </tbody>\n",
       "</table>\n",
       "</div>"
      ],
      "text/plain": [
       "                             BAR                                  DBP        \\\n",
       "                            open  high      low  close  volume   open  high   \n",
       "time                                                                          \n",
       "2021-07-09 00:00:00-04:00  17.92  18.0  17.9019  17.96  293683  49.78  50.2   \n",
       "\n",
       "                                                  GLD                         \\\n",
       "                             low close volume    open    high     low  close   \n",
       "time                                                                           \n",
       "2021-07-09 00:00:00-04:00  49.78  50.1   7874  168.84  169.62  168.66  169.2   \n",
       "\n",
       "                                      UGL                               \n",
       "                            volume   open   high     low  close volume  \n",
       "time                                                                    \n",
       "2021-07-09 00:00:00-04:00  4619133  59.38  59.95  59.279  59.67  75157  "
      ]
     },
     "execution_count": 115,
     "metadata": {},
     "output_type": "execute_result"
    }
   ],
   "source": [
    "# Get current closing prices for SPY and AGG\n",
    "df_portfolio = alpaca.get_barset(\n",
    "    tickers,\n",
    "    timeframe,\n",
    "    start = start,\n",
    "    end = end\n",
    ").df\n",
    "\n",
    "# Preview DataFrame\n",
    "df_portfolio.tail(1)"
   ]
  },
  {
   "cell_type": "code",
   "execution_count": 116,
   "id": "61bf3ad8-ebb1-4238-b23f-da9b07c8250a",
   "metadata": {},
   "outputs": [],
   "source": [
    "# export dataframe as a CSV\n",
    "df = pd.DataFrame(df_portfolio)"
   ]
  },
  {
   "cell_type": "code",
   "execution_count": 117,
   "id": "8bc6e88d-7521-4ea3-a89a-b58b63918bf2",
   "metadata": {},
   "outputs": [],
   "source": [
    "df.to_csv(r'.\\Output\\gold_data_one_year_data.csv', index = False)"
   ]
  },
  {
   "cell_type": "code",
   "execution_count": 118,
   "id": "0fd53231-e6ac-4875-8da2-832489b2c734",
   "metadata": {},
   "outputs": [
    {
     "data": {
      "text/html": [
       "<div>\n",
       "<style scoped>\n",
       "    .dataframe tbody tr th:only-of-type {\n",
       "        vertical-align: middle;\n",
       "    }\n",
       "\n",
       "    .dataframe tbody tr th {\n",
       "        vertical-align: top;\n",
       "    }\n",
       "\n",
       "    .dataframe thead th {\n",
       "        text-align: right;\n",
       "    }\n",
       "</style>\n",
       "<table border=\"1\" class=\"dataframe\">\n",
       "  <thead>\n",
       "    <tr style=\"text-align: right;\">\n",
       "      <th></th>\n",
       "      <th>GLD</th>\n",
       "      <th>BAR</th>\n",
       "      <th>UGL</th>\n",
       "      <th>DBP</th>\n",
       "    </tr>\n",
       "  </thead>\n",
       "  <tbody>\n",
       "    <tr>\n",
       "      <th>2021-07-02</th>\n",
       "      <td>167.32</td>\n",
       "      <td>17.760</td>\n",
       "      <td>58.32</td>\n",
       "      <td>49.8600</td>\n",
       "    </tr>\n",
       "    <tr>\n",
       "      <th>2021-07-06</th>\n",
       "      <td>168.12</td>\n",
       "      <td>17.850</td>\n",
       "      <td>58.95</td>\n",
       "      <td>49.7600</td>\n",
       "    </tr>\n",
       "    <tr>\n",
       "      <th>2021-07-07</th>\n",
       "      <td>168.78</td>\n",
       "      <td>17.905</td>\n",
       "      <td>59.38</td>\n",
       "      <td>49.9500</td>\n",
       "    </tr>\n",
       "    <tr>\n",
       "      <th>2021-07-08</th>\n",
       "      <td>168.67</td>\n",
       "      <td>17.900</td>\n",
       "      <td>59.30</td>\n",
       "      <td>49.7799</td>\n",
       "    </tr>\n",
       "    <tr>\n",
       "      <th>2021-07-09</th>\n",
       "      <td>169.20</td>\n",
       "      <td>17.960</td>\n",
       "      <td>59.67</td>\n",
       "      <td>50.1000</td>\n",
       "    </tr>\n",
       "  </tbody>\n",
       "</table>\n",
       "</div>"
      ],
      "text/plain": [
       "               GLD     BAR    UGL      DBP\n",
       "2021-07-02  167.32  17.760  58.32  49.8600\n",
       "2021-07-06  168.12  17.850  58.95  49.7600\n",
       "2021-07-07  168.78  17.905  59.38  49.9500\n",
       "2021-07-08  168.67  17.900  59.30  49.7799\n",
       "2021-07-09  169.20  17.960  59.67  50.1000"
      ]
     },
     "execution_count": 118,
     "metadata": {},
     "output_type": "execute_result"
    }
   ],
   "source": [
    "# Pick AGG and SPY close prices\n",
    "df_closing_prices = pd.DataFrame()\n",
    "\n",
    "# fetch closing prices\n",
    "df_closing_prices[\"GLD\"] = df_portfolio[\"GLD\"][\"close\"]\n",
    "df_closing_prices[\"BAR\"] = df_portfolio[\"BAR\"][\"close\"]\n",
    "df_closing_prices[\"UGL\"] = df_portfolio[\"UGL\"][\"close\"]\n",
    "df_closing_prices[\"DBP\"] = df_portfolio[\"DBP\"][\"close\"]\n",
    "\n",
    "\n",
    "# Drop the time component of the date\n",
    "df_closing_prices.index = df_closing_prices.index.date\n",
    "\n",
    "# Display sample data\n",
    "df_closing_prices.tail()"
   ]
  },
  {
   "cell_type": "code",
   "execution_count": 119,
   "id": "a0903373-a543-46db-bf6d-d9342efba53e",
   "metadata": {},
   "outputs": [
    {
     "name": "stdout",
     "output_type": "stream",
     "text": [
      "The current value of your 1 GLD shares is: $166.32\n",
      "The current value of your 1 GLD shares is: $17.64\n",
      "The current value of your 1 GLD shares is: $58.54\n",
      "The current value of your 1 GLD shares is: $50.05\n"
     ]
    }
   ],
   "source": [
    "# Compute the current value of shares\n",
    "gld_close_price = df_closing_prices[\"GLD\"][0]\n",
    "bar_close_price = df_closing_prices[\"BAR\"][0]\n",
    "ugl_close_price = df_closing_prices[\"UGL\"][0]\n",
    "dbp_close_price = df_closing_prices[\"DBP\"][0]\n",
    "\n",
    "my_gld_value = my_gld * gld_close_price\n",
    "my_bar_value = my_bar * bar_close_price\n",
    "my_ugl_value = my_ugl * ugl_close_price\n",
    "my_dbp_value = my_dbp * dbp_close_price\n",
    "\n",
    "# Print the current value of shares\n",
    "print(f\"The current value of your {my_gld} GLD shares is: ${my_gld_value:0.2f}\")\n",
    "print(f\"The current value of your {my_bar} GLD shares is: ${my_bar_value:0.2f}\")\n",
    "print(f\"The current value of your {my_ugl} GLD shares is: ${my_ugl_value:0.2f}\")\n",
    "print(f\"The current value of your {my_dbp} GLD shares is: ${my_dbp_value:0.2f}\")"
   ]
  },
  {
   "cell_type": "code",
   "execution_count": null,
   "id": "0074e164-9d91-4281-b840-4c95ee93b2d8",
   "metadata": {},
   "outputs": [],
   "source": []
  }
 ],
 "metadata": {
  "kernelspec": {
   "display_name": "Python 3",
   "language": "python",
   "name": "python3"
  },
  "language_info": {
   "codemirror_mode": {
    "name": "ipython",
    "version": 3
   },
   "file_extension": ".py",
   "mimetype": "text/x-python",
   "name": "python",
   "nbconvert_exporter": "python",
   "pygments_lexer": "ipython3",
   "version": "3.7.10"
  }
 },
 "nbformat": 4,
 "nbformat_minor": 5
}
