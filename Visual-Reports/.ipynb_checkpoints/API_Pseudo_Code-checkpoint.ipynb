{
 "cells": [
  {
   "cell_type": "code",
   "execution_count": null,
   "id": "fbec3cc1-b7a0-42d5-b240-59ddb27b85c5",
   "metadata": {},
   "outputs": [],
   "source": [
    "\n",
    "## Initialized Imports\n",
    "\n",
    "import os\n",
    "import requests\n",
    "import pandas as pd\n",
    "from dotenv import load_dotenv\n",
    "import alpaca_trade_api as tradeapi\n",
    "from MCForecastTools import MCSimulation\n",
    "import json\n",
    "\n",
    "%matplotlib inline\n",
    "\n",
    "load_dotenv()\n"
   ]
  },
  {
   "cell_type": "code",
   "execution_count": null,
   "id": "94ac89da-9c17-4588-b626-27151b11e024",
   "metadata": {},
   "outputs": [],
   "source": [
    "# Set Alpaca API key and secret\n",
    "alpaca_api_key = os.getenv(\"ALPACA_API_KEY\")\n",
    "alpaca_secret_key = os.getenv(\"ALPACA_SECRET_KEY\")\n",
    "# Create the Alpaca API object\n",
    "alpaca = tradeapi.REST(\n",
    "    alpaca_api_key,\n",
    "    alpaca_secret_key,\n",
    "    api_version=\"v2\")\n",
    "# Format current date as ISO format\n",
    "start = pd.Timestamp(\"2020-07-10\", tz=\"America/New_York\").isoformat()\n",
    "end = pd.Timestamp(\"2021-07-10\", tz=\"America/New_York\").isoformat()\n",
    "# Set timeframe to one day ('1D') for the Alpaca API\n",
    "timeframe = \"1D\""
   ]
  },
  {
   "cell_type": "code",
   "execution_count": null,
   "id": "1a485bb8-48d9-4023-b792-07c93844acf3",
   "metadata": {},
   "outputs": [],
   "source": [
    "# Set the tickers: Stocks\n",
    "tickers = \n",
    "# Get current closing prices tickers\n",
    "df_portfolio = alpaca.get_barset(\n",
    "    tickers,\n",
    "    timeframe,\n",
    "    start = start,\n",
    "    end = end\n",
    ").df\n",
    "\n",
    "# Save the data to CSV: \"Output/Stocks.csv\"\n",
    "df_portfolio.to_csv(\"Input-Temp/df_gold_data_one_year.csv\")"
   ]
  },
  {
   "cell_type": "code",
   "execution_count": null,
   "id": "12bff1f3-b4ef-4344-8c69-ba2dcf787446",
   "metadata": {},
   "outputs": [],
   "source": [
    "# Set the tickers: Bonds\n",
    "tickers = \n",
    "# Get current closing prices \n",
    "df_portfolio = alpaca.get_barset(\n",
    "    tickers,\n",
    "    timeframe,\n",
    "    start = start,\n",
    "    end = end\n",
    ").df\n",
    "\n",
    "# Save the data to CSV: \"Output/Bonds.csv\""
   ]
  },
  {
   "cell_type": "code",
   "execution_count": null,
   "id": "4601442d-02da-4475-a219-eb12388610b7",
   "metadata": {},
   "outputs": [],
   "source": [
    "# Set the tickers: Crypto\n",
    "tickers = \n",
    "# read data from CSV for each crypto and concatenate\n",
    "\n",
    "# Save the data to CSV: \"Output/Crypto.csv\""
   ]
  },
  {
   "cell_type": "code",
   "execution_count": null,
   "id": "0dea1d27-3983-4060-a521-d355c9a587ae",
   "metadata": {},
   "outputs": [],
   "source": [
    "# Set the tickers: Oil \n",
    "tickers = \n",
    "# Get current closing prices \n",
    "df_portfolio = alpaca.get_barset(\n",
    "    tickers,\n",
    "    timeframe,\n",
    "    start = start,\n",
    "    end = end\n",
    ").df\n",
    "\n",
    "# Save the data to CSV: \"Output/Oil.csv\""
   ]
  },
  {
   "cell_type": "code",
   "execution_count": null,
   "id": "d8c47f3a-f7e7-4160-9688-186b6cdfa73f",
   "metadata": {},
   "outputs": [],
   "source": [
    "# Set the tickers: Gold\n",
    "tickers = \n",
    "# Get current closing prices \n",
    "df_portfolio = alpaca.get_barset(\n",
    "    tickers,\n",
    "    timeframe,\n",
    "    start = start,\n",
    "    end = end\n",
    ").df\n",
    "\n",
    "# Save the data to CSV: \"Output/Gold.csv\""
   ]
  },
  {
   "cell_type": "code",
   "execution_count": null,
   "id": "a071a74f-14b8-4e50-ae5a-2eaedff95501",
   "metadata": {},
   "outputs": [],
   "source": [
    "# Clean and Concatenate data frames: Stock, Bond, Crypto\n",
    "\n",
    "\n",
    "\n",
    "# Save the data to CSV: \"Output/Stock_Bond_Crypto.csv\"\n"
   ]
  },
  {
   "cell_type": "code",
   "execution_count": null,
   "id": "c681b32c-0ec0-4578-b2e1-cb4599c9e8ec",
   "metadata": {},
   "outputs": [],
   "source": [
    "# Clean and Concatenate data frames: Stock, Crypto, Gold\n",
    "\n",
    "\n",
    "\n",
    "# Save the data to CSV: \"Output/Stock_Crypto_Gold.csv\"\n"
   ]
  },
  {
   "cell_type": "code",
   "execution_count": null,
   "id": "4c71e295-134a-4652-97f9-6ae4de5fbb55",
   "metadata": {},
   "outputs": [],
   "source": [
    "# Clean and Concatenate data frames: Stock, Crypto, Oil\n",
    "\n",
    "\n",
    "\n",
    "# Save the data to CSV: \"Output/Stock_Crypto_Oil.csv\"\n"
   ]
  },
  {
   "cell_type": "code",
   "execution_count": null,
   "id": "010d348b-c7e8-4b1d-bb72-b830a53f2b2c",
   "metadata": {},
   "outputs": [],
   "source": [
    "# Clean and Concatenate data frames: Bond, Oil, Gold\n",
    "\n",
    "\n",
    "\n",
    "# Save the data to CSV: \"Output/Bond_Oil_Gold.csv\"\n"
   ]
  },
  {
   "cell_type": "code",
   "execution_count": null,
   "id": "75cb4b75-4a3e-450f-a0de-44b8ad2e6231",
   "metadata": {},
   "outputs": [],
   "source": [
    "# Clean and Concatenate data frames: Stock, Bond, Oil, Crypto, Gold\n",
    "\n",
    "\n",
    "\n",
    "# Save the data to CSV: \"Output/Stock_Bond_Oil_Crypto_Gold.csv\"\n"
   ]
  }
 ],
 "metadata": {
  "kernelspec": {
   "display_name": "Python [conda env:.conda-pyvizapienv] *",
   "language": "python",
   "name": "conda-env-.conda-pyvizapienv-py"
  },
  "language_info": {
   "codemirror_mode": {
    "name": "ipython",
    "version": 3
   },
   "file_extension": ".py",
   "mimetype": "text/x-python",
   "name": "python",
   "nbconvert_exporter": "python",
   "pygments_lexer": "ipython3",
   "version": "3.7.10"
  }
 },
 "nbformat": 4,
 "nbformat_minor": 5
}
